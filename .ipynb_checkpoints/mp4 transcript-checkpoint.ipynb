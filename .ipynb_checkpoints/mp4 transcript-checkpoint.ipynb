{
 "cells": [
  {
   "cell_type": "code",
   "execution_count": 71,
   "id": "07e048da",
   "metadata": {},
   "outputs": [
    {
     "name": "stdout",
     "output_type": "stream",
     "text": [
      "Exporting chunk0.wav.\n",
      "Exporting chunk1.wav.\n",
      "Exporting chunk2.wav.\n",
      "Exporting chunk3.wav.\n"
     ]
    }
   ],
   "source": [
    "import sys\n",
    "from pydub import AudioSegment\n",
    "from pydub.silence import split_on_silence\n",
    "\n",
    "if len(sys.argv) < 2:\n",
    "    print(\"No WAV file in input.\")\n",
    "    exit(0)\n",
    "\n",
    "# Load your audio.\n",
    "song = AudioSegment.from_wav('watts_cropped.wav')\n",
    "\n",
    "# the imported function.\n",
    "chunks = split_on_silence (\n",
    "    # Use the loaded audio.\n",
    "    song, \n",
    "    # Specify that a silent chunk must be at least 2 seconds or 2000 ms long.\n",
    "    min_silence_len=2000,\n",
    "    # Consider a chunk silent if it's quieter than -16 dBFS.\n",
    "    # (You may want to adjust this parameter.)\n",
    "    silence_thresh=-40\n",
    ")\n",
    "\n",
    "# Process each chunk with your parameters\n",
    "for i, chunk in enumerate(chunks):\n",
    "    # Create a silence chunk that's 0.5 seconds (or 500 ms) long for padding.\n",
    "    silence_chunk = AudioSegment.silent(duration=500)\n",
    "\n",
    "    # Add the padding chunk to the beginning and end of the entire chunk.\n",
    "    audio_chunk = silence_chunk + chunk + silence_chunk\n",
    "\n",
    "    # Export the audio chunk with new bitrate.\n",
    "    print(\"Exporting chunk{0}.wav.\".format(i))\n",
    "    audio_chunk.export(\n",
    "        \"./chunk{0}.wav\".format(i),\n",
    "        format=\"wav\"\n",
    "    )\n"
   ]
  },
  {
   "cell_type": "code",
   "execution_count": 72,
   "id": "71600f9a",
   "metadata": {},
   "outputs": [
    {
     "name": "stdout",
     "output_type": "stream",
     "text": [
      "Chunk 1 Text: let's suppose that you were able every night to dream Any Dream you wanted to\n",
      "Chunk 2 Text: 75 years of time or any length of time you wanted to have\n",
      "Chunk 3 Text: and you would naturally as you began on this adventure of dreams you would fulfill all your\n",
      "Chunk 4 Text: 75 years of total pleasure each you would say wow that was pretty great\n"
     ]
    }
   ],
   "source": [
    "import speech_recognition as sr\n",
    "\n",
    "recognizer = sr.Recognizer()\n",
    "\n",
    "# Process each chunk with speech recognition\n",
    "for i, chunk in enumerate(chunks):\n",
    "    # Export the chunk to a temporary WAV file\n",
    "    chunk.export(\"temp.wav\", format=\"wav\")\n",
    "    \n",
    "    # Load the temporary WAV file\n",
    "    with sr.AudioFile(\"temp.wav\") as source:\n",
    "        # Record the audio data from the file\n",
    "        audio_data = recognizer.record(source)\n",
    "    \n",
    "    # Perform speech recognition\n",
    "    try:\n",
    "        text = recognizer.recognize_google(audio_data)\n",
    "        print(f\"Chunk {i+1} Text:\", text)\n",
    "    except sr.UnknownValueError:\n",
    "        print(f\"Chunk {i+1}: Google Speech Recognition could not understand audio\")\n",
    "    except sr.RequestError as e:\n",
    "        print(f\"Chunk {i+1}: Could not request results from Google Speech Recognition service; {e}\")\n"
   ]
  },
  {
   "cell_type": "code",
   "execution_count": null,
   "id": "2f4bdd6b",
   "metadata": {},
   "outputs": [],
   "source": []
  }
 ],
 "metadata": {
  "kernelspec": {
   "display_name": "transcript",
   "language": "python",
   "name": "transcript"
  },
  "language_info": {
   "codemirror_mode": {
    "name": "ipython",
    "version": 3
   },
   "file_extension": ".py",
   "mimetype": "text/x-python",
   "name": "python",
   "nbconvert_exporter": "python",
   "pygments_lexer": "ipython3",
   "version": "3.11.7"
  }
 },
 "nbformat": 4,
 "nbformat_minor": 5
}
